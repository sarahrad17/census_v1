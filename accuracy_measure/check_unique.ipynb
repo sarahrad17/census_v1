{
 "cells": [
  {
   "cell_type": "code",
   "execution_count": 41,
   "metadata": {},
   "outputs": [],
   "source": [
    "#import packages\n",
    "import csv\n",
    "import pandas as pd\n",
    "import numpy as np\n",
    "import matplotlib.pyplot as plt\n",
    "from diffprivlib import tools as dp\n",
    "from diffprivlib.mechanisms import Binary\n",
    "from diffprivlib.mechanisms import Geometric\n",
    "import os\n",
    "from collections import Counter\n",
    "\n",
    "%store -r races\n",
    "%store -r real_order"
   ]
  },
  {
   "cell_type": "code",
   "execution_count": 42,
   "metadata": {},
   "outputs": [],
   "source": [
    "###########################################################################################################################\n",
    "#All this code does is see approximately how many unique entries for AGE, SEX, and RACE exist in the dataset \n",
    "#(does slightly overcount, this is just for reference)\n",
    "###########################################################################################################################\n",
    "\n",
    "def create_block_data(path):\n",
    "    df = pd.read_csv(path)\n",
    "    df = df.loc[:, ~df.columns.str.contains('^Unnamed')]\n",
    "    df = df.loc[:, ~df.columns.str.contains('sex')]\n",
    "    df = df.loc[:, ~df.columns.str.contains('household_tenure')]\n",
    "    df = df.loc[:, ~df.columns.str.contains('id')]\n",
    "    print(df)\n",
    "    return df"
   ]
  },
  {
   "cell_type": "code",
   "execution_count": 43,
   "metadata": {},
   "outputs": [],
   "source": [
    "def pick_swapvars(df):\n",
    "    #all v is collection of all row values\n",
    "    all_v = []\n",
    "\n",
    "    #add all rows to list all_v\n",
    "    for i, row in df.iterrows():\n",
    "        all_v.append([row['age'], row['race'], row['household_size'], row['hispanic']])\n",
    "        \n",
    "\n",
    "    #drop duplicates based upon age, sex, and race from df\n",
    "    df_drop = df.drop_duplicates(subset = ['age', 'race', 'household_size', 'hispanic'])\n",
    "        \n",
    "    #the list of ids of all rows that contain unique entries\n",
    "    swap = []\n",
    "    \n",
    "    #for each item in uniques, check how many times it occurs in original data\n",
    "    for i, row in df_drop.iterrows():\n",
    "        #list containing age, sex, race\n",
    "        check = [row['age'], row['race'], row['household_size'], row['hispanic']]\n",
    "        dcount = 0 \n",
    "        #for all rows in the dataframe\n",
    "        for a in all_v:\n",
    "            #check if the age, sex, and races match the row\n",
    "            if a==check:\n",
    "                #if they do match, incremement by 1\n",
    "                dcount +=1\n",
    "        #if only present once, add to swaps\n",
    "        if dcount == 1:\n",
    "            swap.append('ah')\n",
    "            \n",
    "               \n",
    "    return len(swap)"
   ]
  },
  {
   "cell_type": "code",
   "execution_count": 48,
   "metadata": {},
   "outputs": [],
   "source": [
    "def import_countydata(county):\n",
    "    #import csv file as dataframe\n",
    "    df = pd.read_csv (r'../homemade_data/'+county+'.csv')\n",
    "    df = df.loc[:, ~df.columns.str.contains('^Unnamed')]\n",
    "    #transfer race representation to include hispanic data:\n",
    "    #if not hispanic: index is 0-62\n",
    "    #if hispanic: index is 63-126\n",
    "        #so, if hispanic, add 63 to the existing race value\n",
    "    for index, row in df.iterrows():\n",
    "        d = row['race']\n",
    "        h = row['hispanic']\n",
    "        if d in races and h==0:\n",
    "            df.at[index, 'race'] = real_order.index(races.index(d))\n",
    "        elif d in races and h==1:\n",
    "            df.at[index, 'race'] = real_order.index((races.index(d))+63)\n",
    "\n",
    "    return df"
   ]
  },
  {
   "cell_type": "code",
   "execution_count": 53,
   "metadata": {},
   "outputs": [],
   "source": [
    "def pick_swapvars(df):\n",
    "    #all v is collection of all row values\n",
    "    all_v = []\n",
    "\n",
    "    #add all rows to list all_v\n",
    "    for i, row in df.iterrows():\n",
    "        all_v.append([[row['age'], row['sex'], row['race']], row['id']])\n",
    "        \n",
    "    #drop duplicates based upon age, sex, and race from df\n",
    "    df_drop = df.drop_duplicates(subset = ['age', 'sex', 'race'])\n",
    "        \n",
    "    #the list of ids of all rows that contain unique entries\n",
    "    swap = []\n",
    "    \n",
    "    #for each item in uniques, check how many times it occurs in original data\n",
    "    for i, row in df_drop.iterrows():\n",
    "        #list containing age, sex, race\n",
    "        check = [row['age'], row['sex'], row['race']]\n",
    "        dcount = 0 \n",
    "        #for all rows in the dataframe\n",
    "        for a in all_v:\n",
    "            #check if the age, sex, and races match the row\n",
    "            if a[0]==check:\n",
    "                #if they do match, incremement by 1\n",
    "                dcount +=1\n",
    "        #if only present once, add to swaps\n",
    "        if dcount == 1:\n",
    "            swap.append(row['id']-1)\n",
    "            \n",
    "               \n",
    "    return len(swap)"
   ]
  },
  {
   "cell_type": "code",
   "execution_count": 55,
   "metadata": {},
   "outputs": [
    {
     "name": "stdout",
     "output_type": "stream",
     "text": [
      "alameda 0.2330300909727082 1429 333\n"
     ]
    }
   ],
   "source": [
    "counties = ['alameda']\n",
    "for county in counties:    \n",
    "    #df_first = create_block_data('../homemade_data/'+county+'.csv')\n",
    "    df_first = import_countydata(county)\n",
    "    df_orig = df_first.copy()\n",
    "#     for index, row in df_orig.iterrows():\n",
    "#         d = row['race']\n",
    "#         df_orig.at[index, 'race'] = races.index(d)\n",
    "        #comment out for not 15 bucket age\n",
    "#         a = row['age']\n",
    "#         if a<15:\n",
    "#             df_orig.at[index, 'age'] = 0\n",
    "#         elif a<30:\n",
    "#             df_orig.at[index, 'age'] = 1\n",
    "#         elif a<45:\n",
    "#             df_orig.at[index, 'age'] = 2\n",
    "#         elif a<60:\n",
    "#             df_orig.at[index, 'age'] = 3\n",
    "#         elif a<75:\n",
    "#             df_orig.at[index, 'age'] = 4\n",
    "#         else:\n",
    "#             df_orig.at[index, 'age'] = 5\n",
    "        \n",
    "    orig = df_orig.shape[0]\n",
    "    new = pick_swapvars(df_orig)\n",
    "    print(county, new/orig, orig, new)"
   ]
  },
  {
   "cell_type": "code",
   "execution_count": null,
   "metadata": {},
   "outputs": [],
   "source": []
  }
 ],
 "metadata": {
  "kernelspec": {
   "display_name": "Python 3",
   "language": "python",
   "name": "python3"
  },
  "language_info": {
   "codemirror_mode": {
    "name": "ipython",
    "version": 3
   },
   "file_extension": ".py",
   "mimetype": "text/x-python",
   "name": "python",
   "nbconvert_exporter": "python",
   "pygments_lexer": "ipython3",
   "version": "3.7.6"
  }
 },
 "nbformat": 4,
 "nbformat_minor": 4
}
