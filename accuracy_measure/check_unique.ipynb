{
 "cells": [
  {
   "cell_type": "code",
   "execution_count": 5,
   "metadata": {},
   "outputs": [],
   "source": [
    "#import packages\n",
    "import csv\n",
    "import pandas as pd\n",
    "import numpy as np\n",
    "import matplotlib.pyplot as plt\n",
    "from diffprivlib import tools as dp\n",
    "from diffprivlib.mechanisms import Binary\n",
    "from diffprivlib.mechanisms import Geometric\n",
    "import os\n",
    "from collections import Counter\n",
    "\n",
    "races = ['Total!!Population of one race!!White alone',\n",
    "       'Total!!Population of one race!!Black or African American alone',\n",
    "       'Total!!Population of one race!!American Indian and Alaska Native alone',\n",
    "       'Total!!Population of one race!!Asian alone',\n",
    "       'Total!!Population of one race!!Native Hawaiian and Other Pacific Islander alone',\n",
    "       'Total!!Population of one race!!Some Other Race alone',\n",
    "       'Total!!Two or More Races!!Population of two races!!White; Black or African American',\n",
    "       'Total!!Two or More Races!!Population of two races!!White; American Indian and Alaska Native',\n",
    "       'Total!!Two or More Races!!Population of two races!!White; Asian',\n",
    "       'Total!!Two or More Races!!Population of two races!!White; Native Hawaiian and Other Pacific Islander',\n",
    "       'Total!!Two or More Races!!Population of two races!!White; Some Other Race',\n",
    "       'Total!!Two or More Races!!Population of two races!!Black or African American; American Indian and Alaska Native',\n",
    "       'Total!!Two or More Races!!Population of two races!!Black or African American; Asian',\n",
    "       'Total!!Two or More Races!!Population of two races!!Black or African American; Native Hawaiian and Other Pacific Islander',\n",
    "       'Total!!Two or More Races!!Population of two races!!Black or African American; Some Other Race',\n",
    "       'Total!!Two or More Races!!Population of two races!!American Indian and Alaska Native; Asian',\n",
    "       'Total!!Two or More Races!!Population of two races!!American Indian and Alaska Native; Native Hawaiian and Other Pacific Islander',\n",
    "       'Total!!Two or More Races!!Population of two races!!American Indian and Alaska Native; Some Other Race',\n",
    "       'Total!!Two or More Races!!Population of two races!!Asian; Native Hawaiian and Other Pacific Islander',\n",
    "       'Total!!Two or More Races!!Population of two races!!Asian; Some Other Race',\n",
    "       'Total!!Two or More Races!!Population of two races!!Native Hawaiian and Other Pacific Islander; Some Other Race',\n",
    "       'Total!!Two or More Races!!Population of three races!!White; Black or African American; American Indian and Alaska Native',\n",
    "       'Total!!Two or More Races!!Population of three races!!White; Black or African American; Asian',\n",
    "       'Total!!Two or More Races!!Population of three races!!White; Black or African American; Native Hawaiian and Other Pacific Islander',\n",
    "       'Total!!Two or More Races!!Population of three races!!White; Black or African American; Some Other Race',\n",
    "       'Total!!Two or More Races!!Population of three races!!White; American Indian and Alaska Native; Asian',\n",
    "       'Total!!Two or More Races!!Population of three races!!White; American Indian and Alaska Native; Native Hawaiian and Other Pacific Islander',\n",
    "       'Total!!Two or More Races!!Population of three races!!White; American Indian and Alaska Native; Some Other Race',\n",
    "       'Total!!Two or More Races!!Population of three races!!White; Asian; Native Hawaiian and Other Pacific Islander',\n",
    "       'Total!!Two or More Races!!Population of three races!!White; Asian; Some Other Race',\n",
    "       'Total!!Two or More Races!!Population of three races!!White; Native Hawaiian and Other Pacific Islander; Some Other Race',\n",
    "       'Total!!Two or More Races!!Population of three races!!Black or African American; American Indian and Alaska Native; Asian',\n",
    "       'Total!!Two or More Races!!Population of three races!!Black or African American; American Indian and Alaska Native; Native Hawaiian and Other Pacific Islander',\n",
    "       'Total!!Two or More Races!!Population of three races!!Black or African American; American Indian and Alaska Native; Some Other Race',\n",
    "       'Total!!Two or More Races!!Population of three races!!Black or African American; Asian; Native Hawaiian and Other Pacific Islander',\n",
    "       'Total!!Two or More Races!!Population of three races!!Black or African American; Asian; Some Other Race',\n",
    "       'Total!!Two or More Races!!Population of three races!!Black or African American; Native Hawaiian and Other Pacific Islander; Some Other Race',\n",
    "       'Total!!Two or More Races!!Population of three races!!American Indian and Alaska Native; Asian; Native Hawaiian and Other Pacific Islander',\n",
    "       'Total!!Two or More Races!!Population of three races!!American Indian and Alaska Native; Asian; Some Other Race',\n",
    "       'Total!!Two or More Races!!Population of three races!!American Indian and Alaska Native; Native Hawaiian and Other Pacific Islander; Some Other Race',\n",
    "       'Total!!Two or More Races!!Population of three races!!Asian; Native Hawaiian and Other Pacific Islander; Some Other Race',\n",
    "       'Total!!Two or More Races!!Population of four races!!White; Black or African American; American Indian and Alaska Native; Asian',\n",
    "       'Total!!Two or More Races!!Population of four races!!White; Black or African American; American Indian and Alaska Native; Native Hawaiian and Other Pacific Islander',\n",
    "       'Total!!Two or More Races!!Population of four races!!White; Black or African American; American Indian and Alaska Native; Some Other Race',\n",
    "       'Total!!Two or More Races!!Population of four races!!White; Black or African American; Asian; Native Hawaiian and Other Pacific Islander',\n",
    "       'Total!!Two or More Races!!Population of four races!!White; Black or African American; Asian; Some Other Race',\n",
    "       'Total!!Two or More Races!!Population of four races!!White; Black or African American; Native Hawaiian and Other Pacific Islander; Some Other Race',\n",
    "       'Total!!Two or More Races!!Population of four races!!White; American Indian and Alaska Native; Asian; Native Hawaiian and Other Pacific Islander',\n",
    "       'Total!!Two or More Races!!Population of four races!!White; American Indian and Alaska Native; Asian; Some Other Race',\n",
    "       'Total!!Two or More Races!!Population of four races!!White; American Indian and Alaska Native; Native Hawaiian and Other Pacific Islander; Some Other Race',\n",
    "       'Total!!Two or More Races!!Population of four races!!White; Asian; Native Hawaiian and Other Pacific Islander; Some Other Race',\n",
    "       'Total!!Two or More Races!!Population of four races!!Black or African American; American Indian and Alaska Native; Asian; Native Hawaiian and Other Pacific Islander',\n",
    "       'Total!!Two or More Races!!Population of four races!!Black or African American; American Indian and Alaska Native; Asian; Some Other Race',\n",
    "       'Total!!Two or More Races!!Population of four races!!Black or African American; American Indian and Alaska Native; Native Hawaiian and Other Pacific Islander; Some Other Race',\n",
    "       'Total!!Two or More Races!!Population of four races!!Black or African American; Asian; Native Hawaiian and Other Pacific Islander; Some Other Race',\n",
    "       'Total!!Two or More Races!!Population of four races!!American Indian and Alaska Native; Asian; Native Hawaiian and Other Pacific Islander; Some Other Race',\n",
    "       'Total!!Two or More Races!!Population of five races!!White; Black or African American; American Indian and Alaska Native; Asian; Native Hawaiian and Other Pacific Islander',\n",
    "       'Total!!Two or More Races!!Population of five races!!White; Black or African American; American Indian and Alaska Native; Asian; Some Other Race',\n",
    "       'Total!!Two or More Races!!Population of five races!!White; Black or African American; American Indian and Alaska Native; Native Hawaiian and Other Pacific Islander; Some Other Race',\n",
    "       'Total!!Two or More Races!!Population of five races!!White; Black or African American; Asian; Native Hawaiian and Other Pacific Islander; Some Other Race',\n",
    "       'Total!!Two or More Races!!Population of five races!!White; American Indian and Alaska Native; Asian; Native Hawaiian and Other Pacific Islander; Some Other Race',\n",
    "       'Total!!Two or More Races!!Population of five races!!Black or African American; American Indian and Alaska Native; Asian; Native Hawaiian and Other Pacific Islander; Some Other Race',\n",
    "       'Total!!Two or More Races!!Population of six races!!White; Black or African American; American Indian and Alaska Native; Asian; Native Hawaiian and Other Pacific Islander; Some Other Race']\n"
   ]
  },
  {
   "cell_type": "code",
   "execution_count": 18,
   "metadata": {},
   "outputs": [],
   "source": [
    "def create_block_data(path):\n",
    "    df = pd.read_csv(path)\n",
    "    df = df.loc[:, ~df.columns.str.contains('^Unnamed')]\n",
    "#     df = df.loc[:, ~df.columns.str.contains('age')]\n",
    "#     df = df.loc[:, ~df.columns.str.contains('sex')]\n",
    "    df = df.loc[:, ~df.columns.str.contains('household_size')]\n",
    "    df = df.loc[:, ~df.columns.str.contains('household_tenure')]\n",
    "    df = df.loc[:, ~df.columns.str.contains('id')]\n",
    "    return df"
   ]
  },
  {
   "cell_type": "code",
   "execution_count": 21,
   "metadata": {},
   "outputs": [
    {
     "name": "stdout",
     "output_type": "stream",
     "text": [
      "Alameda 0.44156752974107766 1429 631\n",
      "Armstrong 0.17674418604651163 1075 190\n",
      "Cibola 0.5331724969843185 829 442\n",
      "Fayette 0.281431334622824 1034 291\n",
      "GrandForks 0.2693877551020408 980 264\n",
      "Hawaii 0.6422893481717011 1258 808\n",
      "Jefferson 0.1915085817524842 1107 212\n",
      "Nantucket 0.3100069979006298 1429 443\n",
      "Washington 0.19357798165137616 1090 211\n"
     ]
    }
   ],
   "source": [
    "counties = ['Alameda', 'Armstrong', 'Cibola', 'Fayette', 'GrandForks', 'Hawaii', 'Jefferson', 'Nantucket', 'Washington']\n",
    "\n",
    "for county in counties:    \n",
    "    df_first = create_block_data('../homemade_data/'+county+'.csv')\n",
    "    orig_df = df_first.copy()\n",
    "    for index, row in orig_df.iterrows():\n",
    "        d = row['race']\n",
    "        orig_df.at[index, 'race'] = races.index(d)\n",
    "    orig = orig_df.shape[0]\n",
    "    orig_df = orig_df.drop_duplicates()\n",
    "    new = orig_df.shape[0]\n",
    "    print(county, new/orig, orig, new)\n",
    "            \n"
   ]
  },
  {
   "cell_type": "code",
   "execution_count": null,
   "metadata": {},
   "outputs": [],
   "source": []
  }
 ],
 "metadata": {
  "kernelspec": {
   "display_name": "Python 3",
   "language": "python",
   "name": "python3"
  },
  "language_info": {
   "codemirror_mode": {
    "name": "ipython",
    "version": 3
   },
   "file_extension": ".py",
   "mimetype": "text/x-python",
   "name": "python",
   "nbconvert_exporter": "python",
   "pygments_lexer": "ipython3",
   "version": "3.7.6"
  }
 },
 "nbformat": 4,
 "nbformat_minor": 4
}
