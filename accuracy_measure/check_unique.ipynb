{
 "cells": [
  {
   "cell_type": "code",
   "execution_count": 24,
   "metadata": {},
   "outputs": [],
   "source": [
    "#import packages\n",
    "import csv\n",
    "import pandas as pd\n",
    "import numpy as np\n",
    "import matplotlib.pyplot as plt\n",
    "from diffprivlib import tools as dp\n",
    "from diffprivlib.mechanisms import Binary\n",
    "from diffprivlib.mechanisms import Geometric\n",
    "import os\n",
    "from collections import Counter\n",
    "\n",
    "%store -r races"
   ]
  },
  {
   "cell_type": "code",
   "execution_count": 25,
   "metadata": {},
   "outputs": [],
   "source": [
    "###########################################################################################################################\n",
    "#All this code does is see approximately how many unique entries for AGE, SEX, and RACE exist in the dataset \n",
    "#(does slightly overcount, this is just for reference)\n",
    "###########################################################################################################################\n",
    "\n",
    "def create_block_data(path):\n",
    "    df = pd.read_csv(path)\n",
    "    df = df.loc[:, ~df.columns.str.contains('^Unnamed')]\n",
    "    df = df.loc[:, ~df.columns.str.contains('household_size')]\n",
    "    df = df.loc[:, ~df.columns.str.contains('household_tenure')]\n",
    "    df = df.loc[:, ~df.columns.str.contains('id')]\n",
    "    return df"
   ]
  },
  {
   "cell_type": "code",
   "execution_count": 27,
   "metadata": {},
   "outputs": [
    {
     "name": "stdout",
     "output_type": "stream",
     "text": [
      "alameda 0.44156752974107766 1429 631\n"
     ]
    }
   ],
   "source": [
    "counties = ['Alameda', 'Armstrong', 'Cibola', 'Fayette', 'GrandForks', 'Hawaii', 'Jefferson', 'Nantucket', 'Washington']\n",
    "counties = ['alameda']\n",
    "for county in counties:    \n",
    "    df_first = create_block_data('../homemade_data/'+county+'.csv')\n",
    "    orig_df = df_first.copy()\n",
    "    for index, row in orig_df.iterrows():\n",
    "        d = row['race']\n",
    "        orig_df.at[index, 'race'] = races.index(d)\n",
    "    orig = orig_df.shape[0]\n",
    "    orig_df = orig_df.drop_duplicates()\n",
    "    new = orig_df.shape[0]\n",
    "    print(county, new/orig, orig, new)"
   ]
  },
  {
   "cell_type": "code",
   "execution_count": null,
   "metadata": {},
   "outputs": [],
   "source": []
  }
 ],
 "metadata": {
  "kernelspec": {
   "display_name": "Python 3",
   "language": "python",
   "name": "python3"
  },
  "language_info": {
   "codemirror_mode": {
    "name": "ipython",
    "version": 3
   },
   "file_extension": ".py",
   "mimetype": "text/x-python",
   "name": "python",
   "nbconvert_exporter": "python",
   "pygments_lexer": "ipython3",
   "version": "3.7.6"
  }
 },
 "nbformat": 4,
 "nbformat_minor": 4
}
