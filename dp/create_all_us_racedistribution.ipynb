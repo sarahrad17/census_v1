{
 "cells": [
  {
   "cell_type": "code",
   "execution_count": 2,
   "metadata": {},
   "outputs": [],
   "source": [
    "import csv\n",
    "import pandas as pd\n",
    "import numpy as np\n",
    "import random\n",
    "from collections import Counter\n",
    "from collections import deque"
   ]
  },
  {
   "cell_type": "code",
   "execution_count": 9,
   "metadata": {},
   "outputs": [
    {
     "name": "stdout",
     "output_type": "stream",
     "text": [
      "                                                  Race     Number  Index\n",
      "63   Not Hispanic - Population of one race!!White a...  186035897     63\n",
      "64   Not Hispanic - Population of one race!!Black o...   37637261     64\n",
      "0       Hispanic - Population of one race!!White alone   37517368      0\n",
      "5    Hispanic - Population of one race!!Some Other ...   18126711      5\n",
      "66   Not Hispanic - Population of one race!!Asian a...   14509636     66\n",
      "..                                                 ...        ...    ...\n",
      "118  Not Hispanic - Two or More Races!!Population o...         53    118\n",
      "122  Not Hispanic - Two or More Races!!Population o...         50    122\n",
      "116  Not Hispanic - Two or More Races!!Population o...         40    116\n",
      "121  Not Hispanic - Two or More Races!!Population o...         34    121\n",
      "124  Not Hispanic - Two or More Races!!Population o...         18    124\n",
      "\n",
      "[126 rows x 3 columns]\n",
      "[124, 116, 118, 123, 115, 117, 125, 51, 59, 111, 32, 102, 108, 42, 62, 37, 99, 44, 103, 48, 26, 96, 31, 106, 95, 45, 105, 38, 41, 107, 119, 97, 33, 43, 30, 94, 13, 79, 15, 83, 80, 27, 29, 12, 88, 76, 11, 78, 4, 17, 81, 75, 19, 74, 14, 6, 67, 68, 1, 10, 65, 5, 64, 63, 0, 66, 69, 71, 70, 2, 73, 8, 7, 84, 3, 72, 91, 77, 85, 20, 82, 21, 24, 9, 18, 28, 104, 22, 110, 87, 25, 86, 89, 92, 35, 90, 40, 36, 100, 50, 47, 16, 93, 39, 23, 98, 34, 56, 114, 57, 101, 113, 54, 46, 52, 49, 60, 55, 120, 53, 58, 109, 112, 61, 122, 121]\n"
     ]
    }
   ],
   "source": [
    "###########################################################################################################################\n",
    "#CREATE STATE DATA\n",
    "#creates race distribution data for all of US; broken down into each race & hispanic/nonhispanic\n",
    "# so for each of the 63 races, there are 2 rows: a Not Hispanic row and Hispanic row --> 126 rows in the dataframe\n",
    "###########################################################################################################################\n",
    "\n",
    "df = pd.read_csv (r'all_us.csv')\n",
    "df = df.loc[:, ~df.columns.str.contains('United States!!Margin of Error')]\n",
    "\n",
    "for col_name, data in df.items():\n",
    "    if col_name == 'Number':\n",
    "        c = 0\n",
    "        for d in data:\n",
    "            df.at[c,'Number']= int(round(float(d.replace(',',''))))\n",
    "            c+=1\n",
    "\n",
    "    \n",
    "df['Index'] =  [*range(0, 126, 1)]\n",
    "df = df.sort_values(by='Number', ascending=False)\n",
    "\n",
    "print(df)\n",
    "\n",
    "final_race = []\n",
    "\n",
    "for col_name, data in df.items():\n",
    "    if col_name == 'Index':\n",
    "        curr = 0\n",
    "        for d in data:\n",
    "            if curr%2 == 0:\n",
    "                final_race.append(d)\n",
    "            if curr%2 == 1:\n",
    "                final_race.insert(0,d)\n",
    "            curr+=1\n",
    "print(final_race)"
   ]
  },
  {
   "cell_type": "code",
   "execution_count": null,
   "metadata": {},
   "outputs": [],
   "source": []
  },
  {
   "cell_type": "code",
   "execution_count": null,
   "metadata": {},
   "outputs": [],
   "source": []
  }
 ],
 "metadata": {
  "kernelspec": {
   "display_name": "Python 3",
   "language": "python",
   "name": "python3"
  },
  "language_info": {
   "codemirror_mode": {
    "name": "ipython",
    "version": 3
   },
   "file_extension": ".py",
   "mimetype": "text/x-python",
   "name": "python",
   "nbconvert_exporter": "python",
   "pygments_lexer": "ipython3",
   "version": "3.7.6"
  }
 },
 "nbformat": 4,
 "nbformat_minor": 4
}
