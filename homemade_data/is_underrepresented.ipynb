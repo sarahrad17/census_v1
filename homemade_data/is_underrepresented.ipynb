{
 "cells": [
  {
   "cell_type": "code",
   "execution_count": 2,
   "metadata": {},
   "outputs": [],
   "source": [
    "import pandas as pd\n",
    "import os\n",
    "import numpy as np\n",
    "from collections import Counter\n",
    "%store -r races\n",
    "%store -r real_order"
   ]
  },
  {
   "cell_type": "code",
   "execution_count": 3,
   "metadata": {},
   "outputs": [],
   "source": [
    "county = 'alameda'\n",
    "threshold = .1"
   ]
  },
  {
   "cell_type": "code",
   "execution_count": 4,
   "metadata": {},
   "outputs": [
    {
     "name": "stdout",
     "output_type": "stream",
     "text": [
      "[2, 3, 4, 5, 6, 7, 8, 9, 10, 11, 12, 13, 14, 15, 16, 17, 18, 19, 20, 21, 22, 23, 24, 25, 26, 27, 28, 29, 30, 31, 32, 33, 34, 35, 36, 37, 38, 39, 40, 41, 42, 43, 44, 45, 46, 47, 48, 49, 50, 51, 52, 53, 54, 55, 56, 57, 58, 59, 60, 61, 62, 64, 65, 66, 67, 68, 69, 70, 71, 72, 73, 74, 75, 76, 77, 78, 79, 80, 81, 82, 83, 84, 85, 86, 87, 88, 89, 90, 91, 92, 93, 94, 95, 96, 97, 98, 99, 100, 101, 102, 103, 104, 105, 106, 107, 108, 109, 110, 111, 112, 113, 114, 115, 116, 117, 118, 119, 120, 121, 122, 123, 124, 125]\n",
      "291\n"
     ]
    }
   ],
   "source": [
    "underrep = []\n",
    "\n",
    "df_orig = pd.read_csv (r'../homemade_data/'+county+'.csv')\n",
    "for index, row in df_orig.iterrows():\n",
    "    d = row['race']\n",
    "    h = row['hispanic']\n",
    "    #if hispanic, increment to 63-126 range\n",
    "    if d in races and h==1:\n",
    "        df_orig.at[index, 'race'] = races.index(d)+len(races)\n",
    "    #else, 0-63 range\n",
    "    elif d in races and h==0:\n",
    "        df_orig.at[index, 'race'] = races.index(d)\n",
    "    \n",
    "    \n",
    "#get list of occurrences by race using counter - original dataset\n",
    "#LABELS_ALL = race numbers 0-126\n",
    "#VALUES_ALL = associated counts for race numbers 0-126\n",
    "labels_all = []\n",
    "vals_all = []\n",
    "for key1, value1 in df_orig.iteritems():\n",
    "    if(key1 == 'race'):\n",
    "        labs, vals = zip(*Counter(value1).items())\n",
    "        labs = list(labs)\n",
    "        vals = list(vals)\n",
    "        #for each race value, get number of occurences and append label and value of each\n",
    "        for i in range(0, len(real_order)):\n",
    "            if i not in labs:\n",
    "                labels_all.append(i)\n",
    "                vals_all.append(0)\n",
    "            elif i in labs:\n",
    "                pos = labs.index(i)\n",
    "                labels_all.append(i)\n",
    "                vals_all.append(vals[pos])   \n",
    "labels_all = np.arange(0,len(real_order),1)\n",
    "\n",
    "    \n",
    "#get associated race counts for hispanic and non-hispanic\n",
    "orig_nonhisp_vals = vals_all[0:len(races)]\n",
    "orig_hisp_vals = vals_all[len(races):]\n",
    "    \n",
    "#create dataframe of his/non-his counts for each race; for ORIGINAL dataframe\n",
    "orig = pd.DataFrame({'Nonhispanic':orig_nonhisp_vals, 'Hispanic':orig_hisp_vals})\n",
    "\n",
    "total = 0\n",
    "for index, row in orig.iterrows():\n",
    "    total = total + row['Hispanic']+row['Nonhispanic']\n",
    "    \n",
    "    \n",
    "underrep_total = 0\n",
    "#all entries corresponding to groups with population fraction > threshold are 0\n",
    "for index, val in enumerate(vals_all):\n",
    "    if val/total <= threshold:\n",
    "        underrep.append(index)\n",
    "        underrep_total += val\n",
    "        \n",
    "        \n",
    "print(underrep)\n",
    "print(underrep_total)"
   ]
  },
  {
   "cell_type": "code",
   "execution_count": 16,
   "metadata": {},
   "outputs": [
    {
     "name": "stdout",
     "output_type": "stream",
     "text": [
      "123\n"
     ]
    }
   ],
   "source": [
    "total_underrep = 0\n",
    "\n",
    "for index, val in enumerate(vals_all):\n",
    "    if index in underrep:\n",
    "        total_underrep +=1\n",
    "        \n",
    "print(total_underrep)"
   ]
  },
  {
   "cell_type": "code",
   "execution_count": 17,
   "metadata": {},
   "outputs": [
    {
     "data": {
      "text/plain": [
       "0.0861344537815126"
      ]
     },
     "execution_count": 17,
     "metadata": {},
     "output_type": "execute_result"
    }
   ],
   "source": [
    "123/1428\n",
    "#total pop"
   ]
  },
  {
   "cell_type": "code",
   "execution_count": 21,
   "metadata": {},
   "outputs": [
    {
     "name": "stdout",
     "output_type": "stream",
     "text": [
      "0.27536231884057966\n",
      "0.26174496644295303\n",
      "0.20869565217391303\n"
     ]
    }
   ],
   "source": [
    "print(1.9/6.9)\n",
    "#identified .01\n",
    "print(3.9/14.9)\n",
    "#identiied \n",
    "print(1.2/5.75)"
   ]
  },
  {
   "cell_type": "code",
   "execution_count": null,
   "metadata": {},
   "outputs": [],
   "source": [
    "#In other words, only 8.6% of the population of Alameda consists of underrepresented groups. \n",
    "#However, 27.5% of identifiable entries are underrepresented individuals!!!!\n",
    "#Disproportionately minorities in dataset"
   ]
  }
 ],
 "metadata": {
  "kernelspec": {
   "display_name": "Python 3",
   "language": "python",
   "name": "python3"
  },
  "language_info": {
   "codemirror_mode": {
    "name": "ipython",
    "version": 3
   },
   "file_extension": ".py",
   "mimetype": "text/x-python",
   "name": "python",
   "nbconvert_exporter": "python",
   "pygments_lexer": "ipython3",
   "version": "3.7.6"
  }
 },
 "nbformat": 4,
 "nbformat_minor": 4
}
